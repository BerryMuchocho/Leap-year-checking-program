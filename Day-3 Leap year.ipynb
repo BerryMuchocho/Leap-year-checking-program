{
 "cells": [
  {
   "cell_type": "code",
   "execution_count": 2,
   "id": "ac3c01f5-0adb-43d6-b373-807b7da53132",
   "metadata": {},
   "outputs": [
    {
     "name": "stdin",
     "output_type": "stream",
     "text": [
      "Which year do you want to check? 2024\n"
     ]
    },
    {
     "name": "stdout",
     "output_type": "stream",
     "text": [
      "Leap year.\n"
     ]
    }
   ],
   "source": [
    "# Coding exercise day 3 - Leap year\n",
    "# Write a program that works out whether if a given year is a lepa year. A normal year has 365 days, leap year has 366 days, with an extra day in February. \n",
    "\n",
    "# on every year that is evenly divisible by 4, except every year that is evenly divisible by 100, unless the year is also evenly divisible by 400.\n",
    "\n",
    "year = int(input(\"Which year do you want to check?\"))\n",
    "\n",
    "# e.g The year 2000: \n",
    "  # 2000 / 4 = 500 (Leap)\n",
    "  # 2000 / 100 = 20 (Not leap)\n",
    "  # 2000 / 400 = 5 (Leap)\n",
    "# So the year 2000 is a leap year.\n",
    "\n",
    "if year % 4 == 0:\n",
    "   if year % 100 == 0:\n",
    "     if year % 400 == 0:\n",
    "       print(\"Leap year.\")\n",
    "     else:\n",
    "       print(\"Not a Leap year.\")\n",
    "   else: \n",
    "     print(\"Leap year.\")     \n",
    "else:\n",
    "    print(\"Not a leap year.\")\n",
    "    "
   ]
  },
  {
   "cell_type": "code",
   "execution_count": null,
   "id": "54453fc6-6dc6-4738-8583-3b6c73b73f5f",
   "metadata": {},
   "outputs": [],
   "source": []
  }
 ],
 "metadata": {
  "kernelspec": {
   "display_name": "Python 3 (ipykernel)",
   "language": "python",
   "name": "python3"
  },
  "language_info": {
   "codemirror_mode": {
    "name": "ipython",
    "version": 3
   },
   "file_extension": ".py",
   "mimetype": "text/x-python",
   "name": "python",
   "nbconvert_exporter": "python",
   "pygments_lexer": "ipython3",
   "version": "3.12.5"
  }
 },
 "nbformat": 4,
 "nbformat_minor": 5
}
